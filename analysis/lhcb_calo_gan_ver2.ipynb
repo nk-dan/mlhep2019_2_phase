{
  "nbformat": 4,
  "nbformat_minor": 0,
  "metadata": {
    "kernelspec": {
      "name": "python3",
      "display_name": "Python 3"
    },
    "language_info": {
      "codemirror_mode": {
        "name": "ipython",
        "version": 3
      },
      "file_extension": ".py",
      "mimetype": "text/x-python",
      "name": "python",
      "nbconvert_exporter": "python",
      "pygments_lexer": "ipython3",
      "version": "3.6.8"
    },
    "colab": {
      "name": "Copy of Sergeev_lhcb_calo_gan_ver2.ipynb",
      "provenance": [],
      "collapsed_sections": []
    },
    "accelerator": "GPU"
  },
  "cells": [
    {
      "cell_type": "markdown",
      "metadata": {
        "colab_type": "text",
        "id": "7RItEAtBirh5"
      },
      "source": [
        "## Fetch technical functions"
      ]
    },
    {
      "cell_type": "code",
      "execution_count": 1,
      "metadata": {
        "colab": {
          "base_uri": "https://localhost:8080/",
          "height": 1000
        },
        "colab_type": "code",
        "id": "7PDlvdejAE65",
        "outputId": "a848d473-569b-4bb6-dbf7-e71f3c3a8c86"
      },
      "outputs": [
        {
          "name": "stdout",
          "output_type": "stream",
          "text": [
            "--2020-01-13 11:24:02--  https://raw.githubusercontent.com/TheodorSergeev/mlhep2019_2_phase/master/analysis/calogan_metrics.py\n",
            "Resolving raw.githubusercontent.com (raw.githubusercontent.com)... 151.101.0.133, 151.101.64.133, 151.101.128.133, ...\n",
            "Connecting to raw.githubusercontent.com (raw.githubusercontent.com)|151.101.0.133|:443... connected.\n",
            "HTTP request sent, awaiting response... 200 OK\n",
            "Length: 4115 (4.0K) [text/plain]\n",
            "Saving to: ‘calogan_metrics.py.4’\n",
            "\n",
            "\rcalogan_metrics.py.   0%[                    ]       0  --.-KB/s               \rcalogan_metrics.py. 100%[===================>]   4.02K  --.-KB/s    in 0s      \n",
            "\n",
            "2020-01-13 11:24:02 (56.6 MB/s) - ‘calogan_metrics.py.4’ saved [4115/4115]\n",
            "\n",
            "--2020-01-13 11:24:07--  https://raw.githubusercontent.com/TheodorSergeev/mlhep2019_2_phase/master/analysis/prd_score.py\n",
            "Resolving raw.githubusercontent.com (raw.githubusercontent.com)... 151.101.0.133, 151.101.64.133, 151.101.128.133, ...\n",
            "Connecting to raw.githubusercontent.com (raw.githubusercontent.com)|151.101.0.133|:443... connected.\n",
            "HTTP request sent, awaiting response... 200 OK\n",
            "Length: 12426 (12K) [text/plain]\n",
            "Saving to: ‘prd_score.py.3’\n",
            "\n",
            "prd_score.py.3      100%[===================>]  12.13K  --.-KB/s    in 0s      \n",
            "\n",
            "2020-01-13 11:24:07 (111 MB/s) - ‘prd_score.py.3’ saved [12426/12426]\n",
            "\n",
            "--2020-01-13 11:24:11--  https://raw.githubusercontent.com/TheodorSergeev/mlhep2019_2_phase/master/analysis/score.py\n",
            "Resolving raw.githubusercontent.com (raw.githubusercontent.com)... 151.101.0.133, 151.101.64.133, 151.101.128.133, ...\n",
            "Connecting to raw.githubusercontent.com (raw.githubusercontent.com)|151.101.0.133|:443... connected.\n",
            "HTTP request sent, awaiting response... 200 OK\n",
            "Length: 7642 (7.5K) [text/plain]\n",
            "Saving to: ‘score.py.3’\n",
            "\n",
            "score.py.3          100%[===================>]   7.46K  --.-KB/s    in 0s      \n",
            "\n",
            "2020-01-13 11:24:11 (79.9 MB/s) - ‘score.py.3’ saved [7642/7642]\n",
            "\n",
            "--2020-01-13 11:24:16--  https://github.com/TheodorSergeev/mlhep2019_2_phase/raw/master/analysis/embedder.tp\n",
            "Resolving github.com (github.com)... 140.82.118.4\n",
            "Connecting to github.com (github.com)|140.82.118.4|:443... connected.\n",
            "HTTP request sent, awaiting response... 302 Found\n",
            "Location: https://raw.githubusercontent.com/TheodorSergeev/mlhep2019_2_phase/master/analysis/embedder.tp [following]\n",
            "--2020-01-13 11:24:16--  https://raw.githubusercontent.com/TheodorSergeev/mlhep2019_2_phase/master/analysis/embedder.tp\n",
            "Resolving raw.githubusercontent.com (raw.githubusercontent.com)... 151.101.0.133, 151.101.64.133, 151.101.128.133, ...\n",
            "Connecting to raw.githubusercontent.com (raw.githubusercontent.com)|151.101.0.133|:443... connected.\n",
            "HTTP request sent, awaiting response... 200 OK\n",
            "Length: 569697 (556K) [application/octet-stream]\n",
            "Saving to: ‘embedder.tp.3’\n",
            "\n",
            "embedder.tp.3       100%[===================>] 556.34K  --.-KB/s    in 0.03s   \n",
            "\n",
            "2020-01-13 11:24:17 (19.0 MB/s) - ‘embedder.tp.3’ saved [569697/569697]\n",
            "\n",
            "--2020-01-13 11:24:23--  https://github.com/TheodorSergeev/mlhep2019_2_phase/raw/master/analysis/generator.py\n",
            "Resolving github.com (github.com)... 140.82.118.4\n",
            "Connecting to github.com (github.com)|140.82.118.4|:443... connected.\n",
            "HTTP request sent, awaiting response... 302 Found\n",
            "Location: https://raw.githubusercontent.com/TheodorSergeev/mlhep2019_2_phase/master/analysis/generator.py [following]\n",
            "--2020-01-13 11:24:23--  https://raw.githubusercontent.com/TheodorSergeev/mlhep2019_2_phase/master/analysis/generator.py\n",
            "Resolving raw.githubusercontent.com (raw.githubusercontent.com)... 151.101.0.133, 151.101.64.133, 151.101.128.133, ...\n",
            "Connecting to raw.githubusercontent.com (raw.githubusercontent.com)|151.101.0.133|:443... connected.\n",
            "HTTP request sent, awaiting response... 200 OK\n",
            "Length: 2206 (2.2K) [text/plain]\n",
            "Saving to: ‘generator.py.4’\n",
            "\n",
            "generator.py.4      100%[===================>]   2.15K  --.-KB/s    in 0s      \n",
            "\n",
            "2020-01-13 11:24:23 (36.0 MB/s) - ‘generator.py.4’ saved [2206/2206]\n",
            "\n",
            "--2020-01-13 11:24:28--  https://github.com/TheodorSergeev/mlhep2019_2_phase/raw/master/analysis/discriminator.py\n",
            "Resolving github.com (github.com)... 140.82.118.4\n",
            "Connecting to github.com (github.com)|140.82.118.4|:443... connected.\n",
            "HTTP request sent, awaiting response... 302 Found\n",
            "Location: https://raw.githubusercontent.com/TheodorSergeev/mlhep2019_2_phase/master/analysis/discriminator.py [following]\n",
            "--2020-01-13 11:24:28--  https://raw.githubusercontent.com/TheodorSergeev/mlhep2019_2_phase/master/analysis/discriminator.py\n",
            "Resolving raw.githubusercontent.com (raw.githubusercontent.com)... 151.101.0.133, 151.101.64.133, 151.101.128.133, ...\n",
            "Connecting to raw.githubusercontent.com (raw.githubusercontent.com)|151.101.0.133|:443... connected.\n",
            "HTTP request sent, awaiting response... 200 OK\n",
            "Length: 2445 (2.4K) [text/plain]\n",
            "Saving to: ‘discriminator.py.2’\n",
            "\n",
            "discriminator.py.2  100%[===================>]   2.39K  --.-KB/s    in 0s      \n",
            "\n",
            "2020-01-13 11:24:28 (54.1 MB/s) - ‘discriminator.py.2’ saved [2445/2445]\n",
            "\n"
          ]
        }
      ],
      "source": [
        "# Get the technical functions\n",
        "! wget https://raw.githubusercontent.com/nk-dan/mlhep2019_2_phase/master/analysis/calogan_metrics.py\n",
        "! wget https://raw.githubusercontent.com/nk-dan/mlhep2019_2_phase/master/analysis/prd_score.py\n",
        "! wget https://raw.githubusercontent.com/nk-dan/mlhep2019_2_phase/master/analysis/score.py\n",
        "! wget https://github.com/nk-dan/mlhep2019_2_phase/raw/master/analysis/embedder.tp\n",
        "! wget https://github.com/nk-dan/mlhep2019_2_phase/raw/master/analysis/generator.py\n",
        "! wget https://github.com/nk-dan/mlhep2019_2_phase/raw/master/analysis/discriminator.py"
      ]
    },
    {
      "cell_type": "code",
      "execution_count": 2,
      "metadata": {
        "colab": {
          "base_uri": "https://localhost:8080/",
          "height": 34
        },
        "colab_type": "code",
        "id": "otBeD05nAE69",
        "outputId": "dcc2e38a-4777-4fc6-a589-36f99bb7ef56"
      },
      "outputs": [
        {
          "name": "stdout",
          "output_type": "stream",
          "text": [
            "Available device = cuda\n"
          ]
        }
      ],
      "source": [
        "import torch\n",
        "import torch.nn as nn\n",
        "import torch.nn.functional as F\n",
        "import torch.optim as optim\n",
        "import torch.utils.data as utils\n",
        "import numpy as np\n",
        "import matplotlib.pyplot as plt\n",
        "from tqdm import tqdm, tqdm_notebook\n",
        "import seaborn as sns\n",
        "from IPython.display import clear_output\n",
        "sns.set()\n",
        "\n",
        "def one_hot(a, num_classes):\n",
        "    return np.squeeze(np.eye(num_classes)[a.reshape(-1)])\n",
        "\n",
        "device = 'cuda' if torch.cuda.is_available() else 'cpu'\n",
        "print(\"Available device =\", device)"
      ]
    },
    {
      "cell_type": "markdown",
      "metadata": {
        "colab_type": "text",
        "id": "nGTtMuq5AE7L"
      },
      "source": [
        "## Fetch the dataset"
      ]
    },
    {
      "cell_type": "code",
      "execution_count": 53,
      "metadata": {
        "colab": {
          "base_uri": "https://localhost:8080/",
          "height": 34
        },
        "colab_type": "code",
        "id": "K7ErYyVxAE7H",
        "outputId": "bfde9583-7c28-4872-90f2-86f1806457cb"
      },
      "outputs": [
        {
          "name": "stdout",
          "output_type": "stream",
          "text": [
            "Drive already mounted at /gdrive; to attempt to forcibly remount, call drive.mount(\"/gdrive\", force_remount=True).\n"
          ]
        }
      ],
      "source": [
        "from google.colab import drive\n",
        "drive.mount('/gdrive')\n",
        "\n",
        "# Uncomment if running via google colab\n",
        "# (you might need to change the paths in this case)\n",
        "train_data_path = '/gdrive/My Drive/mlhep2019_gan/data_train.npz'\n",
        "val_data_path = '/gdrive/My Drive/mlhep2019_gan/data_val.npz'\n",
        "test_data_path = '/gdrive/My Drive/mlhep2019_gan/data_test.npz'\n",
        "\n",
        "# Uncomment if running locally\n",
        "#train_data_path = '../data_train.npz'\n",
        "#val_data_path   = '../data_val.npz'\n",
        "#test_data_path  = '../data_test.npz'"
      ]
    },
    {
      "cell_type": "markdown",
      "metadata": {
        "colab_type": "text",
        "id": "rt9txrc6AE7R"
      },
      "source": [
        "## Load the data"
      ]
    },
    {
      "cell_type": "code",
      "execution_count": 0,
      "metadata": {
        "colab": {},
        "colab_type": "code",
        "id": "LHeRPzrRQX5p"
      },
      "outputs": [],
      "source": [
        "def dataset_with_rotations(N, EnergyDeposit, ParticleMomentum, ParticlePoint, PDG):\n",
        "    # Since calorimeter energy deposit is a 30x30x1 matrix\n",
        "    # we can add a transformation to our loader, that will\n",
        "    # rotate it by 0,90,180,270 degrees, effectively making\n",
        "    # our dataset 4 times larger\n",
        "\n",
        "    # I haven't figured how to add the transformation to the loader,\n",
        "    # so for now we will just enlarge the dataset \n",
        "\n",
        "    # rotation of momentum and coorf by 90 deg (direction is from x towards y axis)\n",
        "    # (p_x, p_y, p_z) -> (-p_y, p_x, p_z)\n",
        "    # (x, y) -> (-y, x)\n",
        "\n",
        "    transf_energy   = np.zeros((4, N, 1, 30, 30))\n",
        "    transf_momentum = np.zeros((4, N, 3))\n",
        "    transf_point    = np.zeros((4, N, 2))\n",
        "    transf_pdg      = np.zeros((4, N, 1))\n",
        "\n",
        "    for i in range(0,N):\n",
        "        transf_energy  [0][i] = EnergyDeposit   [i]\n",
        "        transf_momentum[0][i] = ParticleMomentum[i]\n",
        "        transf_point   [0][i] = ParticlePoint   [i]\n",
        "        transf_pdg     [0][i] = PDG             [i]\n",
        "\n",
        "        for rotation_num in range(1,4):\n",
        "            transf_energy  [rotation_num][i] = np.rot90(transf_energy[rotation_num - 1][i], axes=(1,2))\n",
        "            \n",
        "            transf_momentum[rotation_num][i][0] = -transf_momentum[rotation_num - 1][i][1] # p_x -> -p_y\n",
        "            transf_momentum[rotation_num][i][1] = +transf_momentum[rotation_num - 1][i][0] # p_y -> p_x\n",
        "            transf_momentum[rotation_num][i][2] = +transf_momentum[rotation_num - 1][i][2] # p_z -> p_z\n",
        "            \n",
        "            transf_point   [rotation_num][i][0] = -transf_momentum[rotation_num - 1][i][1] # x -> -y\n",
        "            transf_point   [rotation_num][i][1] = +transf_momentum[rotation_num - 1][i][0] # y -> x\n",
        "\n",
        "            transf_pdg[rotation_num][i] = PDG[i]\n",
        "\n",
        "    transf_energy   = torch.tensor(np.concatenate(transf_energy,   axis=0)).float()\n",
        "    transf_momentum = torch.tensor(np.concatenate(transf_momentum, axis=0)).float()\n",
        "    transf_point    = torch.tensor(np.concatenate(transf_point,    axis=0)).float()\n",
        "    transf_pdg      = torch.tensor(np.concatenate(transf_pdg,      axis=0)).float()\n",
        "    return utils.TensorDataset(transf_energy, transf_momentum, transf_point, transf_pdg)\n",
        "\n",
        "\n",
        "def dataset_with_one_particle_type(type_id, EnergyDeposit, ParticleMomentum, ParticlePoint, PDG):\n",
        "    ind = [i for i, x in enumerate(PDG) if x == type_id]\n",
        "    \n",
        "    return utils.TensorDataset(EnergyDeposit[ind], ParticleMomentum[ind], \n",
        "                               ParticlePoint[ind], PDG[ind])"
      ]
    },
    {
      "cell_type": "code",
      "execution_count": 5,
      "metadata": {
        "colab": {
          "base_uri": "https://localhost:8080/",
          "height": 68
        },
        "colab_type": "code",
        "id": "GA4qqlrlAE7S",
        "outputId": "69d3bd77-e7a6-4ba6-d31a-59a400feb96b"
      },
      "outputs": [
        {
          "name": "stdout",
          "output_type": "stream",
          "text": [
            "Max train dataset size 50250\n",
            "Training dataset size = 4062\n",
            "['EnergyDeposit', 'ParticlePoint', 'ParticleMomentum', 'ParticlePDG']\n"
          ]
        }
      ],
      "source": [
        "data_train = np.load(train_data_path, allow_pickle=True)\n",
        "\n",
        "MAX_TRAIN_SIZE = data_train['EnergyDeposit'].shape[0]\n",
        "print('Max train dataset size', MAX_TRAIN_SIZE)\n",
        "\n",
        "# size of the train dataset\n",
        "# (change to a lower value if you require a subset)\n",
        "TRAIN_SIZE = 4000 * 2\n",
        "TRAIN_IND_ARR = np.random.choice(MAX_TRAIN_SIZE, TRAIN_SIZE)\n",
        "\n",
        "# [data_size, 900]\n",
        "# reshaping it as [data_size, channels, img_size_x, img_size_y]\n",
        "EnergyDeposit    = data_train['EnergyDeposit'][TRAIN_IND_ARR].reshape(-1, 1, 30, 30)\n",
        "ParticleMomentum = data_train['ParticleMomentum'][TRAIN_IND_ARR]\n",
        "ParticlePoint    = data_train['ParticlePoint'][:, :2][TRAIN_IND_ARR]\n",
        "ParticlePDG      = data_train['ParticlePDG'][TRAIN_IND_ARR]\n",
        "\n",
        "EnergyDeposit    = torch.tensor(EnergyDeposit).float()\n",
        "ParticleMomentum = torch.tensor(ParticleMomentum).float()\n",
        "ParticlePoint    = torch.tensor(ParticlePoint).float()\n",
        "ParticlePDG      = torch.tensor(ParticlePDG).float()\n",
        "\n",
        "BATCH_SIZE = 512\n",
        "\n",
        "# without rotations\n",
        "#calo_dataset = utils.TensorDataset(EnergyDeposit, ParticleMomentum, \n",
        "#                                   ParticlePoint, ParticlePDG)\n",
        "\n",
        "# with rotations\n",
        "#calo_dataset = dataset_with_rotations(TRAIN_SIZE, EnergyDeposit, ParticleMomentum, ParticlePoint, ParticlePDG)\n",
        "\n",
        "# with one particle type\n",
        "calo_dataset = dataset_with_one_particle_type(11., EnergyDeposit, ParticleMomentum, \n",
        "                                              ParticlePoint, ParticlePDG)\n",
        "TRAIN_SIZE = len(calo_dataset)\n",
        "\n",
        "calo_dataloader = utils.DataLoader(calo_dataset, batch_size=BATCH_SIZE, \n",
        "                                   pin_memory=True, shuffle=True)\n",
        "\n",
        "print(\"Training dataset size =\", len(calo_dataset))\n",
        "print(list(data_train.keys()))"
      ]
    },
    {
      "cell_type": "code",
      "execution_count": 6,
      "metadata": {
        "colab": {
          "base_uri": "https://localhost:8080/",
          "height": 136
        },
        "colab_type": "code",
        "id": "iAmD2ktaGb0S",
        "outputId": "c5a83326-9e67-43a4-9b1c-60a49ba2d783"
      },
      "outputs": [
        {
          "data": {
            "text/plain": [
              "tensor([[ 5.3327, -0.1432],\n",
              "        [ 3.1626, -4.4946],\n",
              "        [-1.9795,  1.5499],\n",
              "        ...,\n",
              "        [-2.9777,  0.8776],\n",
              "        [-1.9168, -6.0468],\n",
              "        [ 2.2831,  3.6135]])"
            ]
          },
          "execution_count": 6,
          "metadata": {
            "tags": []
          },
          "output_type": "execute_result"
        }
      ],
      "source": [
        "ParticlePoint"
      ]
    },
    {
      "cell_type": "code",
      "execution_count": 7,
      "metadata": {
        "colab": {
          "base_uri": "https://localhost:8080/",
          "height": 51
        },
        "colab_type": "code",
        "id": "TSxtmZQ3tLUg",
        "outputId": "de16cbb3-1a38-459b-ed11-ccbb78875986"
      },
      "outputs": [
        {
          "name": "stdout",
          "output_type": "stream",
          "text": [
            "[-0.08164814 -0.02489864 20.8446184 ] [-0.01204223  0.02772552]\n",
            "[ 5.4557047   5.38253167 24.26102735] [2.69435522 2.65776869]\n"
          ]
        }
      ],
      "source": [
        "# Normalising stuff\n",
        "\n",
        "type_id = 11.\n",
        "\n",
        "ind = [i for i, x in enumerate(data_train['ParticlePDG']) if x == type_id]\n",
        "\n",
        "mean_train_mom   = np.mean(data_train['ParticleMomentum'][ind], axis=0)\n",
        "mean_train_point = np.mean(data_train['ParticlePoint'][:,:2][ind], axis=0)\n",
        "\n",
        "std_train_mom   = np.std(data_train['ParticleMomentum'][ind], axis=0)\n",
        "std_train_point = np.std(data_train['ParticlePoint'][:,:2][ind], axis=0)\n",
        "\n",
        "print(mean_train_mom, mean_train_point)\n",
        "print(std_train_mom, std_train_point)\n",
        "\n",
        "MEAN_TRAIN_MOM   = np.array([-0.08164814, -0.02489864, 20.8446184])\n",
        "MEAN_TRAIN_POINT = np.array([-0.01204223,  0.02772552])\n",
        "STD_TRAIN_MOM    = np.array([ 5.4557047,   5.38253167, 24.26102735])\n",
        "STD_TRAIN_POINT  = np.array([ 2.69435522,  2.65776869])"
      ]
    },
    {
      "cell_type": "markdown",
      "metadata": {
        "colab_type": "text",
        "id": "Pl4gz4nOAE7h"
      },
      "source": [
        "## Training GAN\n",
        "###### ...is not a simple matter\n",
        "###### so here is some [music for this long process](https://www.youtube.com/watch?v=rdU-BrNTgjg)"
      ]
    },
    {
      "cell_type": "code",
      "execution_count": 0,
      "metadata": {
        "colab": {},
        "colab_type": "code",
        "id": "ZqLZ8G2WAE7o"
      },
      "outputs": [],
      "source": [
        "TASKS = ['KL', 'REVERSED_KL', 'WASSERSTEIN', 'HINGE']\n",
        "\n",
        "TASK = 'HINGE'\n",
        "\n",
        "# Additional things for Wasserstein GAN\n",
        "LIPSITZ_WEIGHTS = False\n",
        "clamp_lower, clamp_upper = -0.01, 0.01\n",
        "\n",
        "GRAD_PENALTY = True                # https://arxiv.org/abs/1704.00028\n",
        "ZERO_CENTERED_GRAD_PENALTY = False   # https://arxiv.org/abs/1705.09367\n",
        "\n",
        "# Small hack that can speed-up training and improve generalization\n",
        "INSTANCE_NOISE = True                # https://arxiv.org/abs/1610.04490\n",
        "\n",
        "def add_instance_noise(data, std=0.01):\n",
        "    return data + torch.distributions.Normal(0, std).sample(data.shape).to(device)\n",
        "\n",
        "def l2_norm(tensor):\n",
        "    \"\"\"Return the l2 norm of a tensor.\"\"\"\n",
        "    return torch.sqrt(1e-8 + torch.sum(tensor**2))"
      ]
    },
    {
      "cell_type": "code",
      "execution_count": 0,
      "metadata": {
        "colab": {},
        "colab_type": "code",
        "id": "EUNczCGDAE7y"
      },
      "outputs": [],
      "source": [
        "class GANLosses(object):\n",
        "    def __init__(self, task, device, gp = 'local-two-sided'):\n",
        "        self.TASK = task\n",
        "        self.device = device\n",
        "        self.GP = gp\n",
        "    \n",
        "    def g_loss(self, discrim_output):\n",
        "        eps = 1e-10\n",
        "        if self.TASK == 'KL': \n",
        "            loss = torch.log(1 - discrim_output + eps).mean()    \n",
        "        elif self.TASK == 'REVERSED_KL':\n",
        "            loss = - torch.log(discrim_output + eps).mean()\n",
        "        elif self.TASK in ['WASSERSTEIN', 'HINGE']:\n",
        "            loss = - discrim_output.mean()\n",
        "        return loss\n",
        "\n",
        "    def d_loss(self, discrim_output_gen, discrim_output_real):\n",
        "        eps = 1e-10\n",
        "        if self.TASK in ['KL', 'REVERSED_KL']: \n",
        "            loss = - torch.log(discrim_output_real + eps).mean() - torch.log(1 - discrim_output_gen + eps).mean()\n",
        "        elif self.TASK == 'WASSERSTEIN':\n",
        "            loss = - (discrim_output_real.mean() - discrim_output_gen.mean())\n",
        "        elif self.TASK == 'HINGE':\n",
        "            loss = torch.nn.ReLU()(1.0 - discrim_output_real).mean() + torch.nn.ReLU()(1.0 + discrim_output_gen).mean()\n",
        "        return loss\n",
        "\n",
        "    def calc_gradient_penalty(self, discriminator, data_gen, inputs_batch, inp_data, lambda_reg = .1):\n",
        "        gradient_penalty = 0\n",
        "        k = 1\n",
        "\n",
        "        if self.GP == 'local-two-sided':\n",
        "            N = 10\n",
        "\n",
        "            noise_y = torch.normal(0, N, size=inp_data.shape).to(self.device)\n",
        "\n",
        "            perturbed_y = (inp_data + noise_y).to(self.device)\n",
        "\n",
        "            perturbed_y.requires_grad = True\n",
        "\n",
        "            disc_interpolates = discriminator(perturbed_y, inputs_batch)\n",
        "\n",
        "            gradients = torch.autograd.grad(outputs=disc_interpolates, inputs=perturbed_y,\n",
        "                                        grad_outputs=torch.ones(disc_interpolates.size()).to(self.device),\n",
        "                                        create_graph=True, retain_graph=True, only_inputs=True)[0]\n",
        "\n",
        "            gradient_penalty = ((l2_norm(gradients) - k) ** 2).mean() * lambda_reg\n",
        "\n",
        "        elif self.GP == 'original':\n",
        "            alpha = torch.rand(inp_data.shape[0], 1).to(self.device)\n",
        "            dims_to_add = len(inp_data.size()) - 2\n",
        "            for i in range(dims_to_add):\n",
        "                alpha = alpha.unsqueeze(-1)\n",
        "                # alpha = alpha.expand(inp_data.size())\n",
        "\n",
        "            interpolates = (alpha * inp_data + ((1 - alpha) * data_gen)).to(self.device)\n",
        "\n",
        "            interpolates.requires_grad = True\n",
        "\n",
        "            disc_interpolates = discriminator(interpolates, inputs_batch)\n",
        "\n",
        "            gradients = torch.autograd.grad(outputs=disc_interpolates, inputs=interpolates,\n",
        "                                        grad_outputs=torch.ones(disc_interpolates.size()).to(self.device),\n",
        "                                        create_graph=True, retain_graph=True, only_inputs=True)[0]\n",
        "\n",
        "            gradient_penalty = ((gradients.norm(2, dim=1) - 1) ** 2).mean() * lambda_reg\n",
        "\n",
        "        return gradient_penalty\n",
        "    \n",
        "    def calc_zero_centered_GP(self, discriminator, data_gen, inputs_batch, inp_data, gamma_reg = .1):\n",
        "        \n",
        "        local_input = inp_data.clone().detach().requires_grad_(True)\n",
        "        disc_interpolates = discriminator(local_input, inputs_batch)\n",
        "        gradients = torch.autograd.grad(outputs=disc_interpolates, inputs=local_input,\n",
        "                                        grad_outputs=torch.ones(disc_interpolates.size()).to(self.device),\n",
        "                                        create_graph=True, retain_graph=True, only_inputs=True)[0]\n",
        "        return gamma_reg / 2 * (gradients.norm(2, dim=1) ** 2).mean() "
      ]
    },
    {
      "cell_type": "markdown",
      "metadata": {
        "colab_type": "text",
        "id": "_JsMDF-2AE77"
      },
      "source": [
        "## Defining generator and discriminator"
      ]
    },
    {
      "cell_type": "code",
      "execution_count": 0,
      "metadata": {
        "colab": {},
        "colab_type": "code",
        "id": "w1Rvxc8o4OK7"
      },
      "outputs": [],
      "source": [
        "MEAN_TRAIN_MOM   = np.array([-0.08164814, -0.02489864, 20.8446184])\n",
        "MEAN_TRAIN_POINT = np.array([-0.01204223,  0.02772552])\n",
        "STD_TRAIN_MOM    = np.array([ 5.4557047,   5.38253167, 24.26102735])\n",
        "STD_TRAIN_POINT  = np.array([ 2.69435522,  2.65776869])\n",
        "\n",
        "MEAN_TRAIN_MOM_POINT = torch.Tensor([-0.08164814, -0.02489864, 20.8446184, -0.01204223,  0.02772552]).to(device)\n",
        "STD_TRAIN_MOM_POINT  = torch.Tensor([ 5.4557047,   5.38253167, 24.26102735, 2.69435522,  2.65776869]).to(device)"
      ]
    },
    {
      "cell_type": "code",
      "execution_count": 0,
      "metadata": {
        "colab": {},
        "colab_type": "code",
        "id": "Olxig6BzO7TI"
      },
      "outputs": [],
      "source": [
        "# тут неплохое объяснение, если перевести)) https://zhuanlan.zhihu.com/p/61248211, \n",
        "# + https:/github.com/pytorch/pytorch/issues/8985#issuecomment-405080775\n",
        "\n",
        "class ConditionalBatchNorm2d(nn.Module):\n",
        "  def __init__(self, in_features, out_features):\n",
        "    super().__init__()\n",
        "    self.num_features = out_features\n",
        "    self.bn = nn.BatchNorm2d(out_features, affine=False)\n",
        "    self.gammas = nn.Linear(in_features, out_features)\n",
        "    self.bethas = nn.Linear(in_features, out_features)\n",
        "    self._initialize()\n",
        "\n",
        "  def _initialize(self):\n",
        "    nn.init.ones_(self.gammas.weight.data)\n",
        "    nn.init.zeros_(self.bethas.weight.data)\n",
        "\n",
        "  def forward(self, x, y):\n",
        "    batchnorm = self.bn(x)\n",
        "    gamma = self.gammas(y)\n",
        "    beta = self.bethas(y)\n",
        "    out = (gamma.view(-1, self.num_features, 1, 1)) * batchnorm + beta.view(-1, self.num_features, 1, 1)\n",
        "    return out\n"
      ]
    },
    {
      "cell_type": "code",
      "execution_count": 0,
      "metadata": {
        "colab": {},
        "colab_type": "code",
        "id": "FlcnXwaYYyDw"
      },
      "outputs": [],
      "source": [
        "# spectral norm: https://arxiv.org/pdf/1802.05957.pdf\n",
        "from torch.nn.utils import spectral_norm\n",
        "\n",
        "class ModelD(nn.Module):\n",
        "    def __init__(self):\n",
        "        super(ModelD, self).__init__()\n",
        "        \n",
        "        # 30x30x1\n",
        "        self.conv1 = spectral_norm(nn.Conv2d( 1,   32, kernel_size=(3,3), stride=(1,1), padding=(1,1))) # 30x30x32\n",
        "        #self.ln1   = nn.LayerNorm([32, 30, 30])\n",
        "        self.conv2 = spectral_norm(nn.Conv2d( 32,  64, kernel_size=(3,3), stride=(1,1), padding=(1,1))) # 30x30x64\n",
        "        #self.ln2   = nn.LayerNorm([64, 30, 30])        \n",
        "        self.pool1 = nn.MaxPool2d(2, 2)                                                  # 15x15x64\n",
        "\n",
        "        self.conv3 = spectral_norm(nn.Conv2d( 64, 128, kernel_size=(3,3), stride=(1,1), padding=(1,1))) # 15x15x128\n",
        "        #self.ln3   = nn.LayerNorm([128, 15, 15])\n",
        "        self.conv4 = spectral_norm(nn.Conv2d(128, 256, kernel_size=(3,3), stride=(1,1), padding=(1,1))) # 15x15x256\n",
        "        #self.ln4   = nn.LayerNorm([256, 15, 15])\n",
        "        self.pool2 = nn.MaxPool2d(3, 3)                                                  # 15x15x256\n",
        "        \n",
        "        # 5x5x256 = 6400\n",
        "        self.fc1 = spectral_norm(nn.Linear(6400 + 5, 1))\n",
        "        \n",
        "    def forward(self, EnergyDeposit, ParticleMomentum_ParticlePoint):\n",
        "        X = EnergyDeposit\n",
        "        X = F.leaky_relu(self.conv1(X))\n",
        "        X = F.leaky_relu(self.conv2(X))\n",
        "        X = self.pool1(X)\n",
        "\n",
        "        X = F.leaky_relu(self.conv3(X))\n",
        "        X = F.leaky_relu(self.conv4(X))\n",
        "        X = self.pool2(X)\n",
        "        \n",
        "        X = X.view(len(X), -1)\n",
        "        mom_point = (ParticleMomentum_ParticlePoint - MEAN_TRAIN_MOM_POINT) / STD_TRAIN_MOM_POINT\n",
        "        X = torch.cat([X, mom_point], dim=1)\n",
        "        \n",
        "        #X = F.leaky_relu(self.fcbn1(self.fc1(X)))\n",
        "        #X = F.leaky_relu(self.fcbn2(self.fc2(X)))\n",
        "        #X = F.leaky_relu(self.fcbn3(self.fc3(X)))\n",
        "        if TASK in ['WASSERSTEIN', 'HINGE']:\n",
        "            return self.fc1(X)\n",
        "        else:\n",
        "            return torch.sigmoid(self.fc1(X))"
      ]
    },
    {
      "cell_type": "code",
      "execution_count": 0,
      "metadata": {
        "colab": {},
        "colab_type": "code",
        "id": "DZbm8aKHAE78"
      },
      "outputs": [],
      "source": [
        "from generator import NOISE_DIM\n",
        "\n",
        "class ModelGConvTranspose(nn.Module):\n",
        "    def __init__(self, z_dim):\n",
        "        self.z_dim = z_dim\n",
        "        super(ModelGConvTranspose, self).__init__()\n",
        "        self.fc1 = nn.Linear(self.z_dim, 64)\n",
        "        self.fc2 = nn.Linear(64, 128)\n",
        "        self.fc3 = nn.Linear(128, 512)\n",
        "        self.fc4 = nn.Linear(512, 20736)\n",
        "\n",
        "        self.conv1 = spectral_norm(nn.ConvTranspose2d(256, 256, 3, stride=2, output_padding=1))\n",
        "        #self.bn1 = ConditionalBatchNorm2d(5, 256)\n",
        "        self.bn1 = nn.BatchNorm2d(256)\n",
        "        #self.ln1 = nn.LayerNorm([256, 20, 20])\n",
        "        self.conv2 = spectral_norm(nn.ConvTranspose2d(256, 128, 3))\n",
        "        #self.bn2 = ConditionalBatchNorm2d(5, 128)\n",
        "        self.bn2 = nn.BatchNorm2d(128)\n",
        "        #self.ln2 = nn.LayerNorm([128, 22, 22])\n",
        "        self.conv3 = spectral_norm(nn.ConvTranspose2d(128, 64, 3))\n",
        "        #self.bn3 = ConditionalBatchNorm2d(5, 64)\n",
        "        self.bn3 = nn.BatchNorm2d(64)\n",
        "        #self.ln3 = nn.LayerNorm([64, 24, 24])\n",
        "        self.conv4 = spectral_norm(nn.ConvTranspose2d(64, 32, 3))\n",
        "        #self.bn4 = ConditionalBatchNorm2d(5, 32)\n",
        "        self.bn4 = nn.BatchNorm2d(32)\n",
        "        #self.ln4 = nn.LayerNorm([32, 26, 26])\n",
        "        self.conv5 = spectral_norm(nn.ConvTranspose2d(32, 16, 3))\n",
        "        self.bn5 = nn.BatchNorm2d(16)\n",
        "        #self.ln5 = nn.LayerNorm([16, 28, 28])\n",
        "        self.conv6 = spectral_norm(nn.ConvTranspose2d(16, 1, 3))\n",
        "        \n",
        "    def forward(self, z, ParticleMomentum_ParticlePoint):\n",
        "        mom_point = (ParticleMomentum_ParticlePoint - MEAN_TRAIN_MOM_POINT) / STD_TRAIN_MOM_POINT\n",
        "        #mom_point = ParticleMomentum_ParticlePoint\n",
        "        x = torch.cat([z, mom_point], dim=1)\n",
        "        x = F.leaky_relu(self.fc1(z))\n",
        "        x = F.leaky_relu(self.fc2(x))\n",
        "        x = F.leaky_relu(self.fc3(x))\n",
        "        x = F.leaky_relu(self.fc4(x))\n",
        "        EnergyDeposit = x.view(-1, 256, 9, 9)\n",
        "        \n",
        "        #print(EnergyDeposit.shape)\n",
        "        #EnergyDeposit = F.leaky_relu(self.bn2(self.conv2(EnergyDeposit), mom_point))\n",
        "        #EnergyDeposit = F.leaky_relu(self.bn3(self.conv3(EnergyDeposit), mom_point))\n",
        "        #EnergyDeposit = F.leaky_relu(self.bn4(self.conv4(EnergyDeposit), mom_point))\n",
        "        EnergyDeposit = F.leaky_relu(self.bn1(self.conv1(EnergyDeposit)))\n",
        "        EnergyDeposit = F.leaky_relu(self.bn2(self.conv2(EnergyDeposit)))\n",
        "        EnergyDeposit = F.leaky_relu(self.bn3(self.conv3(EnergyDeposit)))\n",
        "        EnergyDeposit = F.leaky_relu(self.bn4(self.conv4(EnergyDeposit)))\n",
        "        EnergyDeposit = F.leaky_relu(self.bn5(self.conv5(EnergyDeposit)))\n",
        "        EnergyDeposit = self.conv6(EnergyDeposit)\n",
        "\n",
        "        return EnergyDeposit"
      ]
    },
    {
      "cell_type": "code",
      "execution_count": 0,
      "metadata": {
        "colab": {},
        "colab_type": "code",
        "id": "b3szbp8UyWKk"
      },
      "outputs": [],
      "source": [
        "#from generator import Baseline_ModelGConvTranspose\n",
        "#from discriminator import Baseline_ModelD"
      ]
    },
    {
      "cell_type": "markdown",
      "metadata": {
        "colab_type": "text",
        "id": "J89T3sqPAE8A"
      },
      "source": [
        "## Check our models on one batch "
      ]
    },
    {
      "cell_type": "code",
      "execution_count": 0,
      "metadata": {
        "colab": {},
        "colab_type": "code",
        "id": "VDb-q5YFAE8C"
      },
      "outputs": [],
      "source": [
        "\n",
        "\n",
        "discriminator = ModelD().to(device)\n",
        "generator = ModelGConvTranspose(z_dim=NOISE_DIM).to(device)"
      ]
    },
    {
      "cell_type": "code",
      "execution_count": 0,
      "metadata": {
        "colab": {},
        "colab_type": "code",
        "id": "VNu6Y6RjAE8G"
      },
      "outputs": [],
      "source": [
        "for EnergyDeposit_b, ParticleMomentum_b, ParticlePoint_b, PDG_b in calo_dataloader:\n",
        "    break\n",
        "\n",
        "EnergyDeposit_b, ParticleMomentum_b, ParticlePoint_b = EnergyDeposit_b.to(device), \\\n",
        "                                                       ParticleMomentum_b.to(device), \\\n",
        "                                                       ParticlePoint_b.to(device)\n",
        "ParticleMomentum_ParticlePoint_b = torch.cat([ParticleMomentum_b.to(device), ParticlePoint_b.to(device)], dim=1)"
      ]
    },
    {
      "cell_type": "code",
      "execution_count": 32,
      "metadata": {
        "colab": {
          "base_uri": "https://localhost:8080/",
          "height": 34
        },
        "colab_type": "code",
        "id": "SoURsBdEAE8L",
        "outputId": "8ff44e95-b290-4948-b436-e4b33fc5f980"
      },
      "outputs": [
        {
          "data": {
            "text/plain": [
              "torch.Size([512, 1, 30, 30])"
            ]
          },
          "execution_count": 32,
          "metadata": {
            "tags": []
          },
          "output_type": "execute_result"
        }
      ],
      "source": [
        "EnergyDeposit_b.shape"
      ]
    },
    {
      "cell_type": "code",
      "execution_count": 33,
      "metadata": {
        "colab": {
          "base_uri": "https://localhost:8080/",
          "height": 34
        },
        "colab_type": "code",
        "id": "VxIt3TH4Xv4v",
        "outputId": "e82a6aac-e6b1-40a8-c04d-aafb607e57c3"
      },
      "outputs": [
        {
          "data": {
            "text/plain": [
              "torch.Size([512, 5])"
            ]
          },
          "execution_count": 33,
          "metadata": {
            "tags": []
          },
          "output_type": "execute_result"
        }
      ],
      "source": [
        "ParticleMomentum_ParticlePoint_b.shape"
      ]
    },
    {
      "cell_type": "code",
      "execution_count": 34,
      "metadata": {
        "colab": {
          "base_uri": "https://localhost:8080/",
          "height": 34
        },
        "colab_type": "code",
        "id": "Y4fC4dSvAE8W",
        "outputId": "49b068b1-7750-4d2c-9f1d-01a02d486382"
      },
      "outputs": [
        {
          "data": {
            "text/plain": [
              "torch.Size([512, 1])"
            ]
          },
          "execution_count": 34,
          "metadata": {
            "tags": []
          },
          "output_type": "execute_result"
        }
      ],
      "source": [
        "discriminator(EnergyDeposit_b, ParticleMomentum_ParticlePoint_b).shape"
      ]
    },
    {
      "cell_type": "code",
      "execution_count": 35,
      "metadata": {
        "colab": {
          "base_uri": "https://localhost:8080/",
          "height": 34
        },
        "colab_type": "code",
        "id": "Mxp6k6iEAE8f",
        "outputId": "adfb461c-d422-465d-f259-4a7414fca29d"
      },
      "outputs": [
        {
          "data": {
            "text/plain": [
              "torch.Size([512, 1, 30, 30])"
            ]
          },
          "execution_count": 35,
          "metadata": {
            "tags": []
          },
          "output_type": "execute_result"
        }
      ],
      "source": [
        "noise = torch.randn(len(EnergyDeposit_b), NOISE_DIM).to(device)\n",
        "generator(noise, ParticleMomentum_ParticlePoint_b).shape"
      ]
    },
    {
      "cell_type": "code",
      "execution_count": 36,
      "metadata": {
        "colab": {
          "base_uri": "https://localhost:8080/",
          "height": 119
        },
        "colab_type": "code",
        "id": "7He08VWQdUpn",
        "outputId": "9c8a365e-5227-4afd-87c7-695078cde966"
      },
      "outputs": [
        {
          "name": "stdout",
          "output_type": "stream",
          "text": [
            "tensor([-0.9209,  1.1499,  1.0833,  0.8413, -0.1959,  0.4420,  0.2619,  1.2437,\n",
            "        -1.0872,  0.2105], device='cuda:0')\n",
            "tensor([-1.2115, -1.3346, 14.6490,  1.4906,  2.0656], device='cuda:0')\n"
          ]
        },
        {
          "data": {
            "text/plain": [
              "tensor([-0.9209,  1.1499,  1.0833,  0.8413, -0.1959,  0.4420,  0.2619,  1.2437,\n",
              "        -1.0872,  0.2105, -1.2115, -1.3346, 14.6490,  1.4906,  2.0656],\n",
              "       device='cuda:0')"
            ]
          },
          "execution_count": 36,
          "metadata": {
            "tags": []
          },
          "output_type": "execute_result"
        }
      ],
      "source": [
        "print(noise[0])\n",
        "print(ParticleMomentum_ParticlePoint_b[0])\n",
        "\n",
        "torch.cat([noise, ParticleMomentum_ParticlePoint_b], dim=1)[0]"
      ]
    },
    {
      "cell_type": "code",
      "execution_count": 0,
      "metadata": {
        "colab": {},
        "colab_type": "code",
        "id": "cD7XpSC9rOHa"
      },
      "outputs": [],
      "source": [
        "from mpl_toolkits.axes_grid1 import make_axes_locatable\n",
        "import matplotlib.ticker as tck\n",
        "\n",
        "def plot_energy_distr_real_generated(energ_distr_real, \n",
        "                                     energ_distr_generated):\n",
        "    f, ax = plt.subplots(1,2, figsize=(10, 4))\n",
        "    f.suptitle(\"Energy distribution\", fontsize=16, y=.9)\n",
        "\n",
        "    vmin = torch.max(energ_distr_real) \n",
        "    vmin = min(vmin, torch.min(energ_distr_generated))\n",
        "    vmax = torch.max(energ_distr_real) \n",
        "    vmax = max(vmax, torch.max(energ_distr_generated))\n",
        "\n",
        "    for i, title, en_dep in zip([0,1], [\"Real\", \"Generated\"],\n",
        "                                [energ_distr_real[0], energ_distr_generated[0]]):\n",
        "        ax[i].set_title (title,  fontsize=14)\n",
        "        ax[i].set_xlabel(r'$x$', fontsize=12)\n",
        "        ax[i].set_ylabel(r'$y$', fontsize=12)\n",
        "\n",
        "        ax[i].set_xticks(np.arange(-0.5, 30., 1.), minor=True)\n",
        "        ax[i].set_xticks(np.arange(-0.5, 30., 5.), minor=False)                    \n",
        "        ax[i].set_xticklabels(np.arange(-15, 16, 5), minor=False, fontsize=8)\n",
        "\n",
        "        ax[i].set_yticks(np.arange(-0.5, 30., 1.), minor=True)\n",
        "        ax[i].set_yticks(np.arange(-0.5, 30., 5.), minor=False)                    \n",
        "        ax[i].set_yticklabels(np.arange(-15, 16, 5), minor=False, fontsize=8)\n",
        "\n",
        "        ax[i].grid(which='both', color='dimgray', linestyle='-', linewidth=0.5)\n",
        "        im = ax[i].imshow(en_dep, origin = 'lower', cmap=\"inferno\", \n",
        "                          vmin=vmin, vmax=vmax)\n",
        "\n",
        "        divider = make_axes_locatable(ax[i])\n",
        "        cax = divider.append_axes(\"right\", size=\"5%\", pad=0.05)\n",
        "        plt.colorbar(im, cax=cax)\n",
        "\n",
        "    plt.subplots_adjust(wspace=0.1, hspace=0.05, top = 0.75)\n",
        "    #plt.show()\n",
        "    return\n",
        "\n",
        "\n",
        "def plot_shower_real_generated(energ_distr_real, \n",
        "                               energ_distr_generated):\n",
        "    f, ax = plt.subplots(1,2, figsize=(10, 4))\n",
        "    f.suptitle(\"Shower\", fontsize=16, y=.9)\n",
        "\n",
        "    for i, title, en_dep in zip([0,1], [\"Real\", \"Generated\"],\n",
        "                                [energ_distr_real[0], energ_distr_generated[0]]):\n",
        "        ax[i].set_title (title,  fontsize=14)\n",
        "        ax[i].set_xlabel(r'Cluster traverse width ($x$)', fontsize=12)\n",
        "        ax[i].set_ylabel(r'Arbitrary units (sum along $y$)', fontsize=12)\n",
        "\n",
        "        ax[i].set_xticks(np.arange(-0.5, 30., 1.), minor=True)\n",
        "        ax[i].set_xticks(np.arange(-0.5, 30., 5.), minor=False)                    \n",
        "        ax[i].set_xticklabels(np.arange(-15, 16, 5), minor=False, fontsize=8)\n",
        "\n",
        "        ax[i].bar(np.arange(0,30), torch.sum(en_dep, axis=0), \n",
        "                  width=1.0, align='edge', edgecolor='black')\n",
        "\n",
        "    plt.subplots_adjust(hspace=0.05, top = 0.75)\n",
        "    return\n",
        "\n",
        "\n",
        "def plot_energy_and_shower(energ_distr_real, energ_distr_generated):\n",
        "    f, ax = plt.subplots(2,2, figsize=(8, 8))\n",
        "    #f.suptitle(\"Energy distribution\", fontsize=16, y=.9)\n",
        "\n",
        "    vmin = torch.max(energ_distr_real) \n",
        "    vmin = min(vmin, torch.min(energ_distr_generated))\n",
        "    vmax = torch.max(energ_distr_real) \n",
        "    vmax = max(vmax, torch.max(energ_distr_generated))\n",
        "\n",
        "    for i, distr_type, en_dep in zip([0,1], [\"Real\", \"Generated\"],\n",
        "                                [energ_distr_real[0], energ_distr_generated[0]]):\n",
        "        for j, distr_name in zip([0,1], [\"energy distribution\", \"shower\"]):\n",
        "            ax[j][i].set_title (distr_type + \" \" + distr_name,  fontsize=14)\n",
        "            ax[j][i].set_xticks(np.arange(-0.5, 30., 1.), minor=True)\n",
        "            ax[j][i].set_xticks(np.arange(-0.5, 30., 5.), minor=False)                    \n",
        "            ax[j][i].set_xticklabels(np.arange(-15, 16, 5), minor=False, fontsize=8)\n",
        "\n",
        "        ax[0][i].set_xlabel(r'$x$', fontsize=12)\n",
        "        ax[0][i].set_ylabel(r'$y$', fontsize=12)\n",
        "        ax[1][i].set_xlabel(r'Cluster traverse width ($x$)', fontsize=12)\n",
        "        ax[1][i].set_ylabel(r'Arbitrary units (sum along $y$)', fontsize=12)\n",
        "\n",
        "        ax[0][i].set_yticks(np.arange(-0.5, 30., 1.), minor=True)\n",
        "        ax[0][i].set_yticks(np.arange(-0.5, 30., 5.), minor=False)                    \n",
        "        ax[0][i].set_yticklabels(np.arange(-15, 16, 5), minor=False, fontsize=8)\n",
        "\n",
        "        # plot shower\n",
        "        ax[1][i].bar(np.arange(0,30), torch.sum(en_dep, axis=0), \n",
        "                  width=1.0, align='edge', edgecolor='black')\n",
        "\n",
        "        # plot energy distribution\n",
        "        ax[0][i].grid(which='both', color='dimgray', linestyle='-', linewidth=0.5)\n",
        "        im = ax[0][i].imshow(en_dep, origin = 'lower', cmap=\"inferno\", \n",
        "                          vmin=vmin, vmax=vmax)\n",
        "\n",
        "        # add colorabar for the energy distributions\n",
        "        divider = make_axes_locatable(ax[0][i])\n",
        "        cax = divider.append_axes(\"right\", size=\"5%\", pad=0.05)\n",
        "        plt.colorbar(im, cax=cax)\n",
        "\n",
        "    plt.subplots_adjust(wspace=0.4, hspace=0.4)\n",
        "    #plt.show()\n",
        "    return"
      ]
    },
    {
      "cell_type": "code",
      "execution_count": 0,
      "metadata": {
        "colab": {},
        "colab_type": "code",
        "id": "cKr9bT5aBeDh"
      },
      "outputs": [],
      "source": [
        "# Testing plot functions\n",
        "\n",
        "#for EnergyDeposit_b, ParticleMomentum_b, ParticlePoint_b, PDG_b in calo_dataloader:\n",
        "#    break\n",
        "\n",
        "#print(PDG_b[0:15])\n",
        "#plot_energy_distr_real_generated(EnergyDeposit_b[0], EnergyDeposit_b[0])\n",
        "#plot_energy_distr_real_generated(EnergyDeposit_b[1], EnergyDeposit_b[1])\n",
        "\n",
        "\n",
        "#noise = torch.randn(len(EnergyDeposit_b), NOISE_DIM).to(device)\n",
        "#energy_real = EnergyDeposit_b.detach().cpu() \n",
        "#energy_gen = generator(noise, ParticleMomentum_ParticlePoint_b).detach().cpu()\n",
        "\n",
        "#plot_shower_real_generated(energy_real[0], energy_gen[0]) \n",
        "\n",
        "\n",
        "#plot_energy_and_shower(EnergyDeposit_b[1], EnergyDeposit_b[1])"
      ]
    },
    {
      "cell_type": "markdown",
      "metadata": {
        "colab_type": "text",
        "id": "01Mp2PunAE8n"
      },
      "source": [
        "## Training procedure"
      ]
    },
    {
      "cell_type": "code",
      "execution_count": 0,
      "metadata": {
        "colab": {},
        "colab_type": "code",
        "id": "QRYv8lYtlS2L"
      },
      "outputs": [],
      "source": [
        "def train_epoch_dis(k_d, energy_b, mom_point_b, d_optimizer):\n",
        "    \"\"\"\n",
        "    Train discriminator for one epoch\n",
        "    \n",
        "        Parameters\n",
        "        ----------\n",
        "            k_d : int\n",
        "                Number of iterations to train for.\n",
        "            \n",
        "            energy_b : torch.Tensor\n",
        "                Batch of energy distributions.\n",
        "            \n",
        "            mom_point_b : torch.Tensor\n",
        "                Batch of concatenated particle momentum and entrance point.\n",
        "            \n",
        "            d_optimizer : ModelD\n",
        "                Optimizer for the discriminator.\n",
        "            \n",
        "        Returns:\n",
        "        ----------\n",
        "            loss.item() : float\n",
        "                Loss on the last iteration of training.\n",
        "    \"\"\"\n",
        "\n",
        "    for _ in range(k_d):\n",
        "        noise = torch.randn(len(energy_b), NOISE_DIM).to(device)\n",
        "        energy_gen = generator(noise, mom_point_b)\n",
        "\n",
        "        if INSTANCE_NOISE:\n",
        "            energy_b   = add_instance_noise(energy_b)\n",
        "            energy_gen = add_instance_noise(energy_gen)\n",
        "            \n",
        "        loss = gan_losses.d_loss(discriminator(energy_gen, mom_point_b),\n",
        "                                 discriminator(energy_b,   mom_point_b))\n",
        "       \n",
        "        coef = 0\n",
        "        if GRAD_PENALTY:\n",
        "            coef = +1.\n",
        "        elif ZERO_CENTERED_GRAD_PENALTY:\n",
        "            coef = -1.\n",
        "\n",
        "        loss += coef * gan_losses.calc_gradient_penalty(discriminator,\n",
        "                                                        energy_gen.data,\n",
        "                                                        mom_point_b,\n",
        "                                                        energy_b.data)\n",
        "        d_optimizer.zero_grad()\n",
        "        loss.backward()\n",
        "        d_optimizer.step()\n",
        "\n",
        "        if LIPSITZ_WEIGHTS:                    \n",
        "            [p.data.clamp_(clamp_lower, clamp_upper) for p in discriminator.parameters()]\n",
        "\n",
        "    return loss.item()\n",
        "\n",
        "\n",
        "def train_epoch_gen(k_g, energy_b, mom_point_b, g_optimizer):\n",
        "    \"\"\"\n",
        "    Train generator for one epoch\n",
        "    \n",
        "        Parameters\n",
        "        ----------\n",
        "            k_g : int\n",
        "                Number of iterations to train for.\n",
        "            \n",
        "            energy_b : torch.Tensor\n",
        "                Batch of energy distributions.\n",
        "            \n",
        "            mom_point_b : torch.Tensor\n",
        "                Batch of concatenated particle momentum and entrance point.\n",
        "            \n",
        "            g_optimizer : ModelD\n",
        "                Optimizer for the generator.\n",
        "            \n",
        "        Returns:\n",
        "        ----------\n",
        "            loss.item() : float\n",
        "                Loss on the last iteration of training.\n",
        "    \"\"\"\n",
        "\n",
        "    for _ in range(k_g):\n",
        "        noise = torch.randn(len(energy_b), NOISE_DIM).to(device)\n",
        "        energy_gen = generator(noise, mom_point_b)\n",
        "        \n",
        "        if INSTANCE_NOISE:\n",
        "            energy_b = add_instance_noise(energy_b)\n",
        "            energy_gen = add_instance_noise(energy_gen)\n",
        "        \n",
        "        loss = gan_losses.g_loss(discriminator(energy_gen, mom_point_b))\n",
        "        g_optimizer.zero_grad()\n",
        "        loss.backward()\n",
        "        g_optimizer.step()\n",
        "\n",
        "    return loss.item()\n",
        "\n",
        "\n",
        "def plot_training_progress(dis_epoch_loss, gen_epoch_loss, \n",
        "                           predictions_dis, predictions_gen, prd_auc, epoch,\n",
        "                           example_real, example_gen):\n",
        "    clear_output()\n",
        "\n",
        "    print(\"Epoch #\", epoch)\n",
        "    print('Mean discriminator output on real data = %g\\n'\\\n",
        "          'Mean discriminator output on generated data = %g' % \n",
        "          (np.mean(predictions_dis[-1]), np.mean(predictions_gen[-1])))\n",
        "    \n",
        "    f, ax = plt.subplots(1,3, figsize=(16, 4))\n",
        "    ax[0].set_title('Loss')\n",
        "    ax[0].set_xlabel('Iteration')\n",
        "    ax[0].set_ylabel('Loss')\n",
        "    ax[0].plot(dis_epoch_loss, label='dis_epoch_loss')\n",
        "    ax[0].plot(gen_epoch_loss, label='gen_epoch_loss')\n",
        "    ax[0].legend()\n",
        "\n",
        "    ax[1].set_title('Discrimination quality')\n",
        "    ax[1].set_xlabel('Discriminator output')\n",
        "    ax[1].set_ylabel('Number of examples')\n",
        "    ax[1].hist(predictions_dis[-1], bins=100, label='real', \n",
        "               color = \"red\", ec=\"darkred\")\n",
        "    ax[1].hist(predictions_gen[-1], bins=100, label='generated', \n",
        "               color = \"blue\", ec=\"darkblue\")\n",
        "    ax[1].legend()\n",
        "\n",
        "    ax[2].set_title('PRD AUC')\n",
        "    ax[2].set_xlabel('Epoch')\n",
        "    ax[2].set_ylabel('PRD AUC')\n",
        "    ax[2].set_xticks(np.arange(0,epoch))\n",
        "    ax[2].plot(prd_auc)\n",
        "\n",
        "    #plot_energy_distr_real_generated(example_real, example_gen)\n",
        "    #plot_shower_real_generated(example_real, example_gen) \n",
        "    plot_energy_and_shower(example_real, example_gen)\n",
        "    plt.show()"
      ]
    },
    {
      "cell_type": "code",
      "execution_count": 0,
      "metadata": {
        "colab": {},
        "colab_type": "code",
        "id": "qHNPFbakAE8s"
      },
      "outputs": [],
      "source": [
        "from prd_score import compute_prd, compute_prd_from_embedding, _prd_to_f_beta\n",
        "from sklearn.metrics import auc\n",
        "\n",
        "gan_losses = GANLosses(TASK, device)\n",
        "discriminator = ModelD().to(device)\n",
        "generator = ModelGConvTranspose(z_dim=NOISE_DIM).to(device)\n",
        "\n",
        "best_models = [discriminator, generator]\n",
        "\n",
        "def run_training(epoch_num):\n",
        "    lr_dis, lr_gen = 4e-4, 1e-4\n",
        "\n",
        "    g_optimizer = optim.Adam(generator.parameters(), betas=(0.0, 0.999), lr=lr_gen)\n",
        "    d_optimizer = optim.Adam(discriminator.parameters(), betas=(0.0, 0.999), lr=lr_dis)\n",
        "\n",
        "    # ===========================\n",
        "    # IMPORTANT PARAMETER:\n",
        "    # Number of D updates per G update\n",
        "    # ===========================\n",
        "    k_d, k_g = 3, 1\n",
        "\n",
        "    dis_epoch_loss,  gen_epoch_loss  = [], []\n",
        "    predictions_dis, predictions_gen = [], []\n",
        "    prd_auc = []  \n",
        "\n",
        "    for epoch in tqdm(range(epoch_num)):\n",
        "        first = True\n",
        "        \n",
        "        for energy_b, mom_b, point_b, pdg_b in calo_dataloader:\n",
        "            energy_b, mom_b = energy_b.to(device), mom_b.to(device)\n",
        "            point_b,  pdg_b = point_b .to(device), pdg_b.to(device)\n",
        "\n",
        "            mom_point_b = torch.cat([mom_b.to(device), point_b.to(device)], dim=1)\n",
        "\n",
        "            if first:\n",
        "                noise = torch.randn(len(energy_b), NOISE_DIM).to(device)\n",
        "                energy_gen = generator(noise, mom_point_b)\n",
        "                \n",
        "                pred_dis_list = list(discriminator(energy_b,   mom_point_b).detach().cpu().numpy().ravel())\n",
        "                pred_gen_list = list(discriminator(energy_gen, mom_point_b).detach().cpu().numpy().ravel())\n",
        "                \n",
        "                predictions_dis.append(pred_dis_list)\n",
        "                predictions_gen.append(pred_gen_list)\n",
        "                \n",
        "            # Optimize D\n",
        "            dis_loss_item = train_epoch_dis(k_d, energy_b, mom_point_b, d_optimizer)\n",
        "            dis_epoch_loss.append(dis_loss_item)\n",
        "\n",
        "            # Optimize G\n",
        "            gen_loss_item = train_epoch_gen(k_g, energy_b, mom_point_b, g_optimizer)\n",
        "            gen_epoch_loss.append(gen_loss_item)\n",
        "\n",
        "            if first:\n",
        "                precision, recall = compute_prd_from_embedding(\n",
        "                    energy_gen.detach().cpu().numpy().reshape(BATCH_SIZE, -1), \n",
        "                    energy_b.detach().cpu().numpy().reshape(BATCH_SIZE, -1),\n",
        "                    num_clusters=30,\n",
        "                    num_runs=100)\n",
        "                prd_auc.append(auc(precision, recall))\n",
        "                first = False\n",
        "        \n",
        "        if prd_auc[-1] == np.max(prd_auc):\n",
        "            print(\"New best model\")\n",
        "            best_models = [discriminator, generator]\n",
        "\n",
        "        # Plot training progress\n",
        "        for energy_b, mom_b, point_b, pdg_b in calo_dataloader:\n",
        "            noise = torch.randn(len(energy_b), NOISE_DIM).to(device)\n",
        "            mom_point_b = torch.cat([mom_b.to(device), point_b.to(device)], dim=1)\n",
        "            energy_gen = generator(noise, mom_point_b)\n",
        "\n",
        "            real_res = energy_b  .detach().cpu()[0]\n",
        "            gen_res  = energy_gen.detach().cpu()[0]\n",
        "\n",
        "            plot_training_progress(dis_epoch_loss, gen_epoch_loss, \n",
        "                                   predictions_dis, predictions_gen, \n",
        "                                   prd_auc, epoch,\n",
        "                                   real_res, gen_res)\n",
        "\n",
        "            break"
      ]
    },
    {
      "cell_type": "markdown",
      "metadata": {
        "colab_type": "text",
        "id": "V93AcmrkPeBy"
      },
      "source": [
        "## Training"
      ]
    },
    {
      "cell_type": "code",
      "execution_count": 41,
      "metadata": {
        "colab": {
          "base_uri": "https://localhost:8080/",
          "height": 869
        },
        "colab_type": "code",
        "id": "YfPtpL7DAE8v",
        "outputId": "6843f7b9-f445-4039-9aa8-0fe919909236",
        "scrolled": false
      },
      "outputs": [
        {
          "name": "stdout",
          "output_type": "stream",
          "text": [
            "Epoch # 19\n",
            "Mean discriminator output on real data = 21.3106\n",
            "Mean discriminator output on generated data = -0.781217\n"
          ]
        },
        {
          "data": {
            "image/png": "[encoded data removed]",
            "text/plain": [
              "<Figure size 1152x288 with 3 Axes>"
            ]
          },
          "metadata": {
            "tags": []
          },
          "output_type": "display_data"
        },
        {
          "data": {
            "image/png": "[encoded data removed]",
            "text/plain": [
              "<Figure size 576x576 with 6 Axes>"
            ]
          },
          "metadata": {
            "tags": []
          },
          "output_type": "display_data"
        },
        {
          "name": "stderr",
          "output_type": "stream",
          "text": [
            "\r100%|██████████| 20/20 [32:54<00:00, 99.54s/it]\n"
          ]
        }
      ],
      "source": [
        "run_training(20)"
      ]
    },
    {
      "cell_type": "markdown",
      "metadata": {
        "colab_type": "text",
        "id": "1tlQtpY-AE8y"
      },
      "source": [
        "#### Transfer generator on CPU:"
      ]
    },
    {
      "cell_type": "code",
      "execution_count": 0,
      "metadata": {
        "colab": {},
        "colab_type": "code",
        "id": "pdugGrboAE8z"
      },
      "outputs": [],
      "source": [
        "# save the last model\n",
        "#best_generator = generator\n",
        "\n",
        "# save the best model\n",
        "best_generator = best_models[1]\n",
        "\n",
        "generator_cpu = ModelGConvTranspose(z_dim=NOISE_DIM)\n",
        "generator_cpu.load_state_dict(best_generator.state_dict())\n",
        "generator_cpu.eval()\n",
        "\n",
        "# Save the trained model on google disk\n",
        "#torch.save(generator_cpu.state_dict(), '/gdrive/My Drive/mlhep2019_gan/gan.pt')\n",
        "#print('The model is saved to', '/gdrive/My Drive/mlhep2019_gan/gan.pt')\n",
        "torch.save(generator_cpu.state_dict(), '/gdrive/My Drive/gan.pt')"
      ]
    },
    {
      "cell_type": "markdown",
      "metadata": {
        "colab_type": "text",
        "id": "StLmrXnIAE88"
      },
      "source": [
        "## Making predictions"
      ]
    },
    {
      "cell_type": "code",
      "execution_count": 0,
      "metadata": {
        "colab": {},
        "colab_type": "code",
        "id": "owfRgWVhAE8-",
        "scrolled": true
      },
      "outputs": [],
      "source": [
        "def model_prediction(input_file, output_file, generator_cpu, batch_size=1024, shuffle=False):\n",
        "    \"\"\"\n",
        "    Model test/validation\n",
        "\n",
        "        Parameters\n",
        "        ----------\n",
        "            input_file : str\n",
        "                Input file name with path (e.g. data/data_val.npz).\n",
        "            \n",
        "            output_file : str\n",
        "                Output file name with path (e.g. output/data_val_prediction.npz).\n",
        "            \n",
        "            generator_cpu :\n",
        "\n",
        "            \n",
        "            batch_size : int, optional\n",
        "                Number of elements in a dataloader batch.\n",
        "            \n",
        "            shuffle : bool, optional\n",
        "                If to enable shuffling in batches.\n",
        "\n",
        "        Returns:\n",
        "        ----------\n",
        "            None\n",
        "    \"\"\"\n",
        "    \n",
        "    dataset = np.load(input_file, allow_pickle=True)\n",
        "    val_data_path_out = output_file\n",
        "\n",
        "    part_mom_val   = torch.tensor(dataset['ParticleMomentum']).float()\n",
        "    part_point_val = torch.tensor(dataset['ParticlePoint'][:, :2]).float()\n",
        "    part_mom_point = torch.cat([part_mom_val, part_point_val], dim=1)\n",
        "    \n",
        "    calo_dataset    = utils.TensorDataset(part_mom_point)\n",
        "    calo_dataloader = torch.utils.data.DataLoader(calo_dataset, batch_size=batch_size, shuffle=shuffle)\n",
        "\n",
        "    with torch.no_grad():\n",
        "        EnergyDeposit_val = []\n",
        "\n",
        "        for part_mom_point_batch in tqdm(calo_dataloader):\n",
        "            noise = torch.randn(len(part_mom_point_batch[0]), NOISE_DIM)\n",
        "            EnergyDeposit_val_batch = generator_cpu(noise, part_mom_point_batch[0]).detach().numpy()\n",
        "            EnergyDeposit_val.append(EnergyDeposit_val_batch)\n",
        "        \n",
        "        np.savez_compressed(output_file, \n",
        "                            EnergyDeposit=np.concatenate(EnergyDeposit_val, axis=0).reshape(-1, 30, 30))\n",
        "\n",
        "        del EnergyDeposit_val\n",
        "    del dataset; del part_mom_val; del part_point_val; del part_mom_point;\n",
        "    del calo_dataset; calo_dataloader\n",
        "    return"
      ]
    },
    {
      "cell_type": "code",
      "execution_count": 0,
      "metadata": {
        "colab": {},
        "colab_type": "code",
        "id": "8i2AFtUMncvu"
      },
      "outputs": [],
      "source": [
        "# (the results are saved to gdrive)\n",
        "\n",
        "'''\n",
        "# Validation\n",
        "model_prediction(def_colab_path + 'data/data_val.npz' , \n",
        "                 def_colab_path + 'output/data_val_prediction.npz', \n",
        "                 generator_cpu)\n",
        "# Test\n",
        "model_prediction(def_colab_path + 'data/data_test.npz', \n",
        "                 def_colab_path + 'output/data_test_prediction.npz', \n",
        "                 generator_cpu)\n",
        "'''\n",
        "# !zip solution.zip data_val_prediction.npz data_test_prediction.npz\n",
        "# from IPython.display import FileLink\n",
        "# FileLink('./solution.zip')"
      ]
    }
  ]
}